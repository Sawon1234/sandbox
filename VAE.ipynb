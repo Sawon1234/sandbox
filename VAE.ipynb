{
 "cells": [
  {
   "cell_type": "markdown",
   "metadata": {},
   "source": [
    "Variational Autoencoder Implementation\n",
    "==\n",
    "\n",
    "---\n",
    "\n",
    "Based off of: `https://github.com/oduerr/dl_tutorial/blob/master/tensorflow/vae/vae_demo-2D.ipynb`"
   ]
  },
  {
   "cell_type": "code",
   "execution_count": 1,
   "metadata": {
    "collapsed": true
   },
   "outputs": [],
   "source": [
    "%matplotlib inline\n",
    "import tensorflow as tf\n",
    "import numpy as np\n",
    "import matplotlib.pyplot as plt\n",
    "from IPython.core.display import clear_output\n",
    "import sys"
   ]
  },
  {
   "cell_type": "code",
   "execution_count": 2,
   "metadata": {
    "collapsed": true
   },
   "outputs": [],
   "source": [
    "def matmul(X, dout, name):\n",
    "    with tf.variable_scope(name):\n",
    "        _, dX = X.get_shape()\n",
    "        W = tf.get_variable('W', shape=(dX, dout))\n",
    "        b = tf.get_variable('b', shape=(dout))\n",
    "    return tf.matmul(X, W)+b\n",
    "\n",
    "\n",
    "def relu_layer(X, dout, name):\n",
    "    return tf.nn.softplus(matmul(X, dout, name))\n",
    "\n",
    "\n",
    "class VAE(object):\n",
    "    def __init__(self, dX, dZ):\n",
    "        self.enc_layers = [20,20]\n",
    "        self.dec_layers = [20,20]\n",
    "        self.dZ = dZ\n",
    "        self.dX = dX\n",
    "\n",
    "        self._build_network(dX, dZ)\n",
    "        self._init_tf()\n",
    "\n",
    "    def _build_network(self, dX, dZ):\n",
    "\n",
    "        self.X = tf.placeholder(tf.float32, shape=(None, dX), name='X')\n",
    "        self.noise = tf.placeholder(tf.float32, shape=(None, dZ), name='Z')\n",
    "        self.lr = tf.placeholder(tf.float32, shape=tuple(), name='lr')\n",
    "\n",
    "        # Encoding\n",
    "        encoding = self.X\n",
    "        with tf.variable_scope('encoder'):\n",
    "            for i, layer_size in enumerate(self.enc_layers):\n",
    "                encoding = relu_layer(encoding, layer_size, name='enc_%d'%i)\n",
    "            # make mu, sigma\n",
    "            self.mu = mu_enc = matmul(encoding, dZ, name='enc_mu')\n",
    "            self.log_sigma = log_sigma_enc = matmul(encoding, dZ, name='enc_sig')\n",
    "            self.sigma = sigma_enc = tf.exp(log_sigma_enc)\n",
    "\n",
    "        #sigma_enc = tf.Print(sigma_enc, [sigma_enc])\n",
    "        #mu_enc = tf.Print(mu_enc, [mu_enc])\n",
    "\n",
    "        # Decoding\n",
    "        enc_output = self.noise*sigma_enc + mu_enc\n",
    "        mu_dec, log_sigma_dec = self._decode(enc_output)\n",
    "        self.mu_dec = mu_dec\n",
    "        self.sigma_dec = sigma_dec = tf.exp(log_sigma_dec)\n",
    "        \n",
    "        # Sample decode\n",
    "        self.sample_Z = tf.placeholder(tf.float32, shape=(None, dZ), name='Z_sample')\n",
    "        self.sample_mu, self.sample_log_sigma = self._decode(self.sample_Z, reuse=True)\n",
    "        self.sample_sigma = tf.exp(self.sample_log_sigma)\n",
    "            \n",
    "        # Losses\n",
    "        # KL div btwn Q(z|x) and P(z)\n",
    "        kldiv = tf.reduce_sum(self.sigma, reduction_indices=[1]) + \\\n",
    "                  tf.reduce_sum(tf.square(self.mu), reduction_indices=[1]) - \\\n",
    "                  tf.reduce_sum(tf.log(self.sigma), reduction_indices=[1])\n",
    "        kldiv = tf.reduce_mean(kldiv) - dZ\n",
    "\n",
    "        # log P(x|z)\n",
    "        logpxz = -tf.reduce_sum(log_sigma_dec, reduction_indices=[1]) - \\\n",
    "                     tf.reduce_sum(tf.square(self.X - mu_dec)/sigma_dec, reduction_indices=[1])\n",
    "        logpxz = tf.reduce_mean(logpxz)\n",
    "\n",
    "        self.loss = kldiv - logpxz\n",
    "        self.stepfn = tf.train.AdamOptimizer(self.lr).minimize(self.loss)\n",
    "        \n",
    "    def _decode(self, output, reuse=False):\n",
    "        with tf.variable_scope('decoder', reuse=reuse):\n",
    "            for i, layer_size in enumerate(self.enc_layers):\n",
    "                output = relu_layer(output, layer_size, name='dec_%d'%i)\n",
    "            mu_dec = matmul(output, dX, name='dec_mu')\n",
    "            log_sigma_dec = (matmul(output, dX, name='dec_sig'))\n",
    "        return mu_dec, log_sigma_dec\n",
    "\n",
    "    def _init_tf(self):\n",
    "        self.sess = tf.Session()\n",
    "        self.sess.run(tf.initialize_all_variables())\n",
    "\n",
    "    def step(self, X, lr=0.1):\n",
    "        batch_size = X.shape[0]\n",
    "        z = np.random.randn(batch_size, self.dZ)\n",
    "        loss, _ = self.sess.run([self.loss, self.stepfn],\n",
    "                feed_dict={ self.X: X, \n",
    "                            self.noise:z,\n",
    "                            self.lr: lr})\n",
    "        return loss\n",
    "\n",
    "    def encode(self, X):\n",
    "        mu, sigma = self.sess.run([self.mu, self.sigma],\n",
    "                feed_dict={ self.X: X})\n",
    "        return mu, sigma\n",
    "    \n",
    "    def encode_decode(self, X):\n",
    "        batch_size = X.shape[0]\n",
    "        z = np.random.randn(batch_size, self.dZ)\n",
    "        mu, mu_dec, sigma_dec = self.sess.run([self.mu, self.mu_dec, self.sigma_dec],\n",
    "                          feed_dict={self.X: X, self.noise:z})\n",
    "        return mu, mu_dec, sigma_dec\n",
    "    \n",
    "    def sample(self, N):\n",
    "        Z = np.random.randn(N, self.dZ)\n",
    "        mu_dec, sigma_dec = self.sess.run([self.sample_mu, self.sample_sigma], {self.sample_Z: Z})\n",
    "        return np.random.randn(N, self.dX) * np.sqrt(sigma_dec) + mu_dec\n",
    "        \n",
    "\n",
    "def next_batch(batch_size, non_crossing=True):\n",
    "    z_true = np.random.uniform(0,1,batch_size)\n",
    "    r = np.power(z_true, 0.5)\n",
    "    phi = 0.25 * np.pi * z_true\n",
    "    x1 = r*np.cos(phi)\n",
    "    x2 = r*np.sin(phi)\n",
    "    \n",
    "    # Sampling form a Gaussian\n",
    "    x1 = np.random.normal(x1, 0.10* np.power(z_true,2), batch_size)\n",
    "    x2 = np.random.normal(x2, 0.10* np.power(z_true,2), batch_size)\n",
    "        \n",
    "    # Bringing data in the right form\n",
    "    X = np.transpose(np.reshape((x1,x2), (2, batch_size)))\n",
    "    X = np.asarray(X, dtype='float32')\n",
    "    return X"
   ]
  },
  {
   "cell_type": "markdown",
   "metadata": {},
   "source": [
    "Training & Test\n",
    "==="
   ]
  },
  {
   "cell_type": "code",
   "execution_count": 3,
   "metadata": {
    "collapsed": false
   },
   "outputs": [
    {
     "name": "stdout",
     "output_type": "stream",
     "text": [
      "4900 -19.4391602993\n",
      "[-1.2068007  -0.65891165 -0.26122475 -0.53883803 -1.23324156 -0.09509295\n",
      "  0.10966456  0.40804303  0.59917653 -1.387182  ]\n",
      "[ 0.03417692  0.039435    0.04613829  0.04149138  0.03381566  0.04715287\n",
      "  0.04896303  0.04984353  0.05109468  0.03124089]\n"
     ]
    }
   ],
   "source": [
    "tf.reset_default_graph()\n",
    "dX = 2\n",
    "dZ = 1\n",
    "batch_size = 10\n",
    "vae = VAE(dX, dZ)\n",
    "\n",
    "tot_loss = 0\n",
    "for i in range(5000):\n",
    "    x = next_batch(batch_size)\n",
    "    loss = vae.step(x, lr=1e-2)\n",
    "    tot_loss += loss\n",
    "    if i%100 == 0:\n",
    "        clear_output()\n",
    "        print i, tot_loss/50\n",
    "        sys.stdout.flush()\n",
    "        tot_loss = 0\n",
    "        mus, sigmas = vae.encode(x)\n",
    "        print np.mean(mus, axis=1)\n",
    "        print np.mean(sigmas, axis=1)"
   ]
  },
  {
   "cell_type": "code",
   "execution_count": 4,
   "metadata": {
    "collapsed": false
   },
   "outputs": [
    {
     "data": {
      "image/png": "[encoded data removed]",
      "text/plain": [
       "<matplotlib.figure.Figure at 0x11343dcd0>"
      ]
     },
     "metadata": {},
     "output_type": "display_data"
    }
   ],
   "source": [
    "# Plot the original distribution\n",
    "Nsamp = 10000\n",
    "xx = next_batch(Nsamp)\n",
    "plt.title('Training Distribution')\n",
    "plt.plot(xx[:,0], xx[:,1],'.')\n",
    "\n",
    "mu_enc, mu_dec, sigma_dec = vae.encode_decode(xx)\n",
    "plt.plot(mu_dec[:,0], mu_dec[:,1], '.')  # Mean of VAE\n",
    "\n",
    "plt.show()"
   ]
  },
  {
   "cell_type": "code",
   "execution_count": 5,
   "metadata": {
    "collapsed": false
   },
   "outputs": [
    {
     "data": {
      "image/png": "[encoded data removed]",
      "text/plain": [
       "<matplotlib.figure.Figure at 0x1140ee110>"
      ]
     },
     "metadata": {},
     "output_type": "display_data"
    }
   ],
   "source": [
    "# Try sampling!\n",
    "samples = vae.sample(10000)\n",
    "plt.plot(samples[:,0], samples[:,1], '.') \n",
    "plt.title('VAE Samples')\n",
    "plt.show()"
   ]
  }
 ],
 "metadata": {
  "kernelspec": {
   "display_name": "Python 2",
   "language": "python",
   "name": "python2"
  },
  "language_info": {
   "codemirror_mode": {
    "name": "ipython",
    "version": 2
   },
   "file_extension": ".py",
   "mimetype": "text/x-python",
   "name": "python",
   "nbconvert_exporter": "python",
   "pygments_lexer": "ipython2",
   "version": "2.7.10"
  }
 },
 "nbformat": 4,
 "nbformat_minor": 0
}
